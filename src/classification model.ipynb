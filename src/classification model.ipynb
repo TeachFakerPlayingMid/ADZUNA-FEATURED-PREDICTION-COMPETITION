{
 "cells": [
  {
   "cell_type": "code",
   "execution_count": 168,
   "metadata": {},
   "outputs": [],
   "source": [
    "import pandas as pd\n",
    "import numpy as np\n",
    "import matplotlib.pyplot as plt\n",
    "\n",
    "from sklearn.model_selection import train_test_split, StratifiedShuffleSplit\n",
    "from sklearn.feature_extraction.text import TfidfVectorizer, CountVectorizer\n",
    "from sklearn.pipeline import make_pipeline\n",
    "from sklearn.naive_bayes import MultinomialNB\n",
    "from sklearn.metrics import confusion_matrix\n",
    "from nltk.tokenize import RegexpTokenizer\n",
    "from nltk.stem import WordNetLemmatizer,PorterStemmer\n",
    "\n",
    "import nltk"
   ]
  },
  {
   "cell_type": "code",
   "execution_count": 169,
   "metadata": {},
   "outputs": [],
   "source": [
    "from pathlib import Path\n",
    "DATA_PATH = Path() / \"../data\"\n",
    "DATA_PATH.mkdir(parents=True,exist_ok=True)\n",
    "\n",
    "def load_data(filename, data_path=DATA_PATH,encoding='ISO-8859-1'):\n",
    "    csv_path = data_path / filename\n",
    "    return pd.read_csv(csv_path,encoding=encoding)\n",
    "\n",
    "def save_data(data, filename, data_path=DATA_PATH,encoding='ISO-8859-1'):\n",
    "    csv_path = data_path / filename\n",
    "    data.to_csv(csv_path, index=False,encoding='ISO-8859-1')\n",
    "\n",
    "PLOT_PATH = Path() / \"../plot\"\n",
    "PLOT_PATH.mkdir(parents=True,exist_ok=True)\n",
    "\n",
    "def save_fig(fig_id, tight_layout=True, fig_extension=\"png\", resolution=300, transparent=True):\n",
    "    path = PLOT_PATH / f\"{fig_id}.{fig_extension}\"\n",
    "    print(\"Saving figure\", fig_id)\n",
    "    if tight_layout:\n",
    "        plt.tight_layout()\n",
    "    plt.savefig(path, format=fig_extension, dpi=resolution, transparent=transparent)"
   ]
  },
  {
   "cell_type": "code",
   "execution_count": 170,
   "metadata": {},
   "outputs": [],
   "source": [
    "df = load_data(\"processed_rev1.csv\")"
   ]
  },
  {
   "cell_type": "markdown",
   "metadata": {},
   "source": [
    "# Basic Classification Model"
   ]
  },
  {
   "cell_type": "code",
   "execution_count": 171,
   "metadata": {},
   "outputs": [],
   "source": [
    "# Splitting data\n",
    "X, y = df['processed_FullDescription'], df['Target']"
   ]
  },
  {
   "cell_type": "code",
   "execution_count": 172,
   "metadata": {},
   "outputs": [],
   "source": [
    "cv = CountVectorizer(binary=True)\n",
    "tdata = cv.fit_transform(X)\n",
    "\n",
    "ft = cv.get_feature_names_out()\n",
    "\n",
    "dense_data = tdata.toarray()\n",
    "\n",
    "full_set_explicit = []\n",
    "\n",
    "# Iterate over each document's feature vector and the target variable simultaneously\n",
    "for row, target in zip(dense_data, y):\n",
    "    feature_dict = dict(zip(ft, row))\n",
    "    document_target_pair = (feature_dict, target)\n",
    "    full_set_explicit.append(document_target_pair)\n",
    "\n",
    "train_set, test_set = train_test_split(full_set_explicit, test_size=0.2, random_state=42)\n",
    "\n"
   ]
  },
  {
   "cell_type": "code",
   "execution_count": 173,
   "metadata": {},
   "outputs": [
    {
     "name": "stdout",
     "output_type": "stream",
     "text": [
      "0.746\n"
     ]
    }
   ],
   "source": [
    "# Model \n",
    "classifier = nltk.NaiveBayesClassifier.train(train_set)\n",
    "print(nltk.classify.accuracy(classifier, test_set))"
   ]
  },
  {
   "cell_type": "code",
   "execution_count": 174,
   "metadata": {},
   "outputs": [
    {
     "name": "stdout",
     "output_type": "stream",
     "text": [
      "Confusion Matrix:\n",
      "\n",
      "Saving figure confusion_matrix\n"
     ]
    },
    {
     "data": {
      "image/png": "[encoded data removed]",
      "text/plain": [
       "<Figure size 640x480 with 2 Axes>"
      ]
     },
     "metadata": {},
     "output_type": "display_data"
    },
    {
     "name": "stdout",
     "output_type": "stream",
     "text": [
      "\n",
      "Classification Report:\n",
      "               precision    recall  f1-score   support\n",
      "\n",
      "       Above       0.52      0.63      0.57       132\n",
      "       Below       0.86      0.79      0.82       368\n",
      "\n",
      "    accuracy                           0.75       500\n",
      "   macro avg       0.69      0.71      0.69       500\n",
      "weighted avg       0.77      0.75      0.75       500\n",
      "\n"
     ]
    }
   ],
   "source": [
    "from seaborn import heatmap\n",
    "# Extracting labels\n",
    "labels = [classifier.classify(i[0]) for i in test_set]\n",
    "y_test = [i[1] for i in test_set]\n",
    "\n",
    "# Confusion Matrix\n",
    "from sklearn.metrics import confusion_matrix\n",
    "print(\"Confusion Matrix:\\n\")\n",
    "mat = confusion_matrix(y_test, labels)\n",
    "heatmap(mat, annot=True, fmt='g')\n",
    "plt.xlabel('true label')\n",
    "plt.ylabel('predicted label')\n",
    "save_fig(\"confusion_matrix\")\n",
    "plt.show()\n",
    "\n",
    "# Classification Report\n",
    "from sklearn import metrics\n",
    "print(\"\\nClassification Report:\\n\", metrics.classification_report(y_test, labels))"
   ]
  },
  {
   "cell_type": "code",
   "execution_count": 175,
   "metadata": {},
   "outputs": [
    {
     "data": {
      "text/plain": [
       "([('experience', 1354),\n",
       "  ('business', 1056),\n",
       "  ('team', 1014),\n",
       "  ('role', 819),\n",
       "  ('client', 813),\n",
       "  ('project', 806),\n",
       "  ('management', 729),\n",
       "  ('work', 725),\n",
       "  ('development', 706),\n",
       "  ('skill', 655)],\n",
       " [('experience', 3041),\n",
       "  ('work', 2244),\n",
       "  ('role', 2238),\n",
       "  ('team', 2110),\n",
       "  ('job', 1982),\n",
       "  ('client', 1874),\n",
       "  ('service', 1852),\n",
       "  ('working', 1710),\n",
       "  ('business', 1695),\n",
       "  ('sale', 1680)])"
      ]
     },
     "execution_count": 175,
     "metadata": {},
     "output_type": "execute_result"
    }
   ],
   "source": [
    "# Filter the dataset into two based on the 'Target' column\n",
    "high_salary_data = df[df['Target'] == 'Above']['processed_FullDescription']\n",
    "low_salary_data = df[df['Target'] == 'Below']['processed_FullDescription']\n",
    "\n",
    "# Initialize CountVectorizer, note: stop_words='english' to exclude common English stop words\n",
    "cv_high = CountVectorizer(stop_words='english', max_features=1000)\n",
    "cv_low = CountVectorizer(stop_words='english', max_features=1000)\n",
    "\n",
    "# Fit and transform the data for high salary and low salary categories\n",
    "high_salary_dtm = cv_high.fit_transform(high_salary_data)\n",
    "low_salary_dtm = cv_low.fit_transform(low_salary_data)\n",
    "\n",
    "# Sum up the word counts for each feature for high salary and low salary data\n",
    "high_salary_word_counts = np.sum(high_salary_dtm.toarray(), axis=0)\n",
    "low_salary_word_counts = np.sum(low_salary_dtm.toarray(), axis=0)\n",
    "\n",
    "# Get the feature names (words)\n",
    "high_salary_features = cv_high.get_feature_names_out()\n",
    "low_salary_features = cv_low.get_feature_names_out()\n",
    "\n",
    "# Create dictionaries of word counts for high and low salary data\n",
    "high_salary_word_freq = dict(zip(high_salary_features, high_salary_word_counts))\n",
    "low_salary_word_freq = dict(zip(low_salary_features, low_salary_word_counts))\n",
    "\n",
    "# Sort the dictionaries by word count to get the top 10 words\n",
    "top10_high_salary_words = sorted(high_salary_word_freq.items(), key=lambda x: x[1], reverse=True)[:10]\n",
    "top10_low_salary_words = sorted(low_salary_word_freq.items(), key=lambda x: x[1], reverse=True)[:10]\n",
    "\n",
    "top10_high_salary_words, top10_low_salary_words"
   ]
  },
  {
   "cell_type": "markdown",
   "metadata": {},
   "source": [
    "# Model Improvement"
   ]
  },
  {
   "cell_type": "code",
   "execution_count": 176,
   "metadata": {},
   "outputs": [
    {
     "name": "stderr",
     "output_type": "stream",
     "text": [
      "[nltk_data] Downloading package averaged_perceptron_tagger to\n",
      "[nltk_data]     C:\\Users\\TYS\\AppData\\Roaming\\nltk_data...\n",
      "[nltk_data]   Package averaged_perceptron_tagger is already up-to-\n",
      "[nltk_data]       date!\n",
      "[nltk_data] Downloading package punkt to\n",
      "[nltk_data]     C:\\Users\\TYS\\AppData\\Roaming\\nltk_data...\n",
      "[nltk_data]   Package punkt is already up-to-date!\n"
     ]
    }
   ],
   "source": [
    "from nltk import pos_tag, word_tokenize\n",
    "from nltk.util import ngrams\n",
    "\n",
    "nltk.download('averaged_perceptron_tagger')\n",
    "nltk.download('punkt')\n",
    "\n",
    "def extract_extended_phrases(text):\n",
    "    # Tokenize and POS tag\n",
    "    tokens = word_tokenize(text.lower())\n",
    "    tagged_tokens = pos_tag(tokens)\n",
    "    \n",
    "    # Generate bigrams and trigrams\n",
    "    bi_grams = list(ngrams(tagged_tokens, 2))\n",
    "    tri_grams = list(ngrams(tagged_tokens, 3))\n",
    "    \n",
    "    # Define patterns to look for in bigrams\n",
    "    patterns = [\n",
    "        ('JJ', 'NN'),  # Adjective-Noun\n",
    "        ('NN', 'NN'),  # Noun-Noun\n",
    "        ('RB', 'JJ'),  # Adverb-Adjective (assuming no check for negations here)\n",
    "        ('VB', 'RB'),  # Verb-Adverb\n",
    "        ('VB', 'NN')   # Verb-Noun\n",
    "    ]\n",
    "    \n",
    "    # Define patterns to look for in trigrams\n",
    "    tri_patterns = [\n",
    "        ('JJ', 'NN', 'NN'),  # Adjective-Noun-Noun\n",
    "        ('RB', 'JJ', 'NN'),  # Adverb-Adjective-Noun\n",
    "        ('NN', 'IN', 'NN')   # Noun-Preposition-Noun\n",
    "    ]\n",
    "    \n",
    "    # Extract phrases based on bigram patterns\n",
    "    phrases = [' '.join([a, b]) for ((a, tag_a), (b, tag_b)) in bi_grams if (tag_a, tag_b) in patterns]\n",
    "    \n",
    "    # Extract phrases based on trigram patterns\n",
    "    phrases += [' '.join([a, b, c]) for ((a, tag_a), (b, tag_b), (c, tag_c)) in tri_grams if (tag_a, tag_b, tag_c) in tri_patterns]\n",
    "    \n",
    "    return phrases\n"
   ]
  },
  {
   "cell_type": "code",
   "execution_count": 177,
   "metadata": {},
   "outputs": [],
   "source": [
    "# Assuming df is your DataFrame and it includes a 'processed_FullDescription' column for text\n",
    "# and a 'Target' column for labels\n",
    "documents = [(extract_extended_phrases(row['processed_FullDescription']), row['Target']) for index, row in df.iterrows()]\n"
   ]
  },
  {
   "cell_type": "code",
   "execution_count": 178,
   "metadata": {},
   "outputs": [],
   "source": [
    "all_phrases = []\n",
    "for document, _ in documents:\n",
    "    # Since document is already a list, directly extend all_phrases with it\n",
    "    all_phrases.extend(document)\n"
   ]
  },
  {
   "cell_type": "code",
   "execution_count": 179,
   "metadata": {},
   "outputs": [],
   "source": [
    "# Calculate frequency distribution of these phrases\n",
    "from nltk import FreqDist\n",
    "all_phrases_freq = FreqDist(all_phrases)\n",
    "\n",
    "# Select the most common phrases as features\n",
    "word_features = [phrase for phrase, count in all_phrases_freq.most_common(2000)]\n"
   ]
  },
  {
   "cell_type": "code",
   "execution_count": 180,
   "metadata": {},
   "outputs": [],
   "source": [
    "def document_features(document, word_features):\n",
    "    document_words = set(document)\n",
    "    features = {}\n",
    "    for word in word_features:\n",
    "        features[f'contains({word})'] = (word in document_words)\n",
    "    return features\n"
   ]
  },
  {
   "cell_type": "code",
   "execution_count": 181,
   "metadata": {},
   "outputs": [],
   "source": [
    "# Assuming you have a list of (document, label) pairs\n",
    "featuresets = [(document_features(d, word_features), c) for (d,c) in documents]\n",
    "train_set, test_set = featuresets[100:], featuresets[:100]\n"
   ]
  },
  {
   "cell_type": "code",
   "execution_count": 182,
   "metadata": {},
   "outputs": [
    {
     "name": "stdout",
     "output_type": "stream",
     "text": [
      "0.77\n"
     ]
    }
   ],
   "source": [
    "# Model \n",
    "classifier = nltk.NaiveBayesClassifier.train(train_set)\n",
    "print(nltk.classify.accuracy(classifier, test_set))"
   ]
  },
  {
   "cell_type": "code",
   "execution_count": 183,
   "metadata": {},
   "outputs": [
    {
     "name": "stdout",
     "output_type": "stream",
     "text": [
      "Confusion Matrix:\n",
      "\n",
      "Saving figure confusion_matrix_POS\n"
     ]
    },
    {
     "data": {
      "image/png": "[encoded data removed]",
      "text/plain": [
       "<Figure size 640x480 with 2 Axes>"
      ]
     },
     "metadata": {},
     "output_type": "display_data"
    },
    {
     "name": "stdout",
     "output_type": "stream",
     "text": [
      "\n",
      "Classification Report:\n",
      "               precision    recall  f1-score   support\n",
      "\n",
      "       Above       0.57      0.59      0.58        27\n",
      "       Below       0.85      0.84      0.84        73\n",
      "\n",
      "    accuracy                           0.77       100\n",
      "   macro avg       0.71      0.71      0.71       100\n",
      "weighted avg       0.77      0.77      0.77       100\n",
      "\n"
     ]
    }
   ],
   "source": [
    "from seaborn import heatmap\n",
    "# Extracting labels\n",
    "labels = [classifier.classify(i[0]) for i in test_set]\n",
    "y_test = [i[1] for i in test_set]\n",
    "\n",
    "# Confusion Matrix\n",
    "from sklearn.metrics import confusion_matrix\n",
    "print(\"Confusion Matrix:\\n\")\n",
    "mat = confusion_matrix(y_test, labels)\n",
    "heatmap(mat, annot=True, fmt='g')\n",
    "plt.xlabel('true label')\n",
    "plt.ylabel('predicted label')\n",
    "save_fig(\"confusion_matrix_POS\")\n",
    "plt.show()\n",
    "\n",
    "# Classification Report\n",
    "from sklearn import metrics\n",
    "print(\"\\nClassification Report:\\n\", metrics.classification_report(y_test, labels))"
   ]
  },
  {
   "cell_type": "markdown",
   "metadata": {},
   "source": [
    "# Incorporate other Features"
   ]
  },
  {
   "cell_type": "code",
   "execution_count": 184,
   "metadata": {},
   "outputs": [],
   "source": [
    "category_vectorizer = CountVectorizer()\n",
    "category_features = category_vectorizer.fit_transform(df['Category'])"
   ]
  },
  {
   "cell_type": "code",
   "execution_count": 185,
   "metadata": {},
   "outputs": [],
   "source": [
    "location_vectorizer = CountVectorizer()\n",
    "location_features = location_vectorizer.fit_transform(df['LocationNormalized'])"
   ]
  },
  {
   "cell_type": "code",
   "execution_count": 186,
   "metadata": {},
   "outputs": [],
   "source": [
    "# Assuming the function extract_extended_phrases is defined as before\n",
    "# Apply the function to the 'processed_FullDescription' column to extract POS-based features\n",
    "df['POS_features'] = df['processed_FullDescription'].apply(extract_extended_phrases)\n",
    "\n",
    "# Join the extracted features into a single string per document, if not already\n",
    "df['POS_features'] = df['POS_features'].apply(lambda x: ' '.join(x))\n"
   ]
  },
  {
   "cell_type": "code",
   "execution_count": 187,
   "metadata": {},
   "outputs": [],
   "source": [
    "pos_vectorizer = CountVectorizer()\n",
    "\n",
    "# Fit and transform the POS extracted features\n",
    "pos_features = pos_vectorizer.fit_transform(df['POS_features'])\n"
   ]
  },
  {
   "cell_type": "code",
   "execution_count": 188,
   "metadata": {},
   "outputs": [],
   "source": [
    "from scipy.sparse import hstack\n",
    "\n",
    "# Combine POS features and category features\n",
    "combined_features = hstack([pos_features, location_features])\n"
   ]
  },
  {
   "cell_type": "code",
   "execution_count": 189,
   "metadata": {},
   "outputs": [],
   "source": [
    "y = df['Target']  # Assuming 'Target' is the column with labels\n",
    "\n",
    "# Split data\n",
    "X_train, X_test, y_train, y_test = train_test_split(combined_features, y, test_size=0.2, random_state=42)\n"
   ]
  },
  {
   "cell_type": "code",
   "execution_count": 190,
   "metadata": {},
   "outputs": [
    {
     "name": "stdout",
     "output_type": "stream",
     "text": [
      "Accuracy: 0.764\n"
     ]
    }
   ],
   "source": [
    "classifier = MultinomialNB()\n",
    "\n",
    "# Train the classifier\n",
    "classifier.fit(X_train, y_train)\n",
    "\n",
    "# Evaluate the classifier\n",
    "accuracy = classifier.score(X_test, y_test)\n",
    "print(f\"Accuracy: {accuracy}\") # The accuracy is 0.75 after including the location features\n"
   ]
  },
  {
   "cell_type": "code",
   "execution_count": 191,
   "metadata": {},
   "outputs": [],
   "source": [
    "combined_features2 = hstack([pos_features, category_features])"
   ]
  },
  {
   "cell_type": "code",
   "execution_count": 192,
   "metadata": {},
   "outputs": [],
   "source": [
    "X_train, X_test, y_train, y_test = train_test_split(combined_features2, y, test_size=0.2, random_state=42)"
   ]
  }
 ],
 "metadata": {
  "kernelspec": {
   "display_name": "Python 3",
   "language": "python",
   "name": "python3"
  },
  "language_info": {
   "codemirror_mode": {
    "name": "ipython",
    "version": 3
   },
   "file_extension": ".py",
   "mimetype": "text/x-python",
   "name": "python",
   "nbconvert_exporter": "python",
   "pygments_lexer": "ipython3",
   "version": "3.11.1"
  }
 },
 "nbformat": 4,
 "nbformat_minor": 2
}
